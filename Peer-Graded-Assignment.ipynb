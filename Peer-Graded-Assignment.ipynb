{
  "metadata": {
    "language_info": {
      "codemirror_mode": {
        "name": "python",
        "version": 3
      },
      "file_extension": ".py",
      "mimetype": "text/x-python",
      "name": "python",
      "nbconvert_exporter": "python",
      "pygments_lexer": "ipython3",
      "version": "3.8"
    },
    "kernelspec": {
      "name": "python",
      "display_name": "Pyolite",
      "language": "python"
    }
  },
  "nbformat_minor": 4,
  "nbformat": 4,
  "cells": [
    {
      "cell_type": "markdown",
      "source": "# My Jupiter Notebook On IBM Watson Studio",
      "metadata": {}
    },
    {
      "cell_type": "markdown",
      "source": "__Priya Patidar__\n\"My current desired occupation is Data Scientist\"",
      "metadata": {}
    },
    {
      "cell_type": "markdown",
      "source": "*I am interested in Data Science because it is the most in-demand field currently in IT sector and also it is an interesting work to play with the data. So one can make career in data science with great oportunities.*",
      "metadata": {}
    },
    {
      "cell_type": "markdown",
      "source": "### Sample Code",
      "metadata": {}
    },
    {
      "cell_type": "code",
      "source": "2*2",
      "metadata": {
        "trusted": true
      },
      "execution_count": 7,
      "outputs": [
        {
          "execution_count": 7,
          "output_type": "execute_result",
          "data": {
            "text/plain": "4"
          },
          "metadata": {}
        }
      ]
    },
    {
      "cell_type": "markdown",
      "source": "1. Python\n    1. Numpy\n    2. Panda\n2. R\n3. SQL",
      "metadata": {}
    },
    {
      "cell_type": "markdown",
      "source": "!.[jupyter_logo.png](attachment:jupiter_logo.png)",
      "metadata": {}
    },
    {
      "cell_type": "markdown",
      "source": "[Home Page of Google](https://google.com)",
      "metadata": {}
    },
    {
      "cell_type": "code",
      "source": "",
      "metadata": {},
      "execution_count": null,
      "outputs": []
    }
  ]
}